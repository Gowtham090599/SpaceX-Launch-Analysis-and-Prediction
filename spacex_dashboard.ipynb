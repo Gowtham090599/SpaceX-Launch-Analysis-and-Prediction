{
 "cells": [
  {
   "cell_type": "code",
   "execution_count": 1,
   "id": "baecf065-6bbc-4645-8667-1dd13d243fe2",
   "metadata": {},
   "outputs": [
    {
     "name": "stdout",
     "output_type": "stream",
     "text": [
      "Requirement already satisfied: jupyter-dash in c:\\users\\aliju\\appdata\\local\\programs\\python\\python312\\lib\\site-packages (0.4.2)\n",
      "Requirement already satisfied: dash in c:\\users\\aliju\\appdata\\local\\programs\\python\\python312\\lib\\site-packages (from jupyter-dash) (3.0.4)\n",
      "Requirement already satisfied: requests in c:\\users\\aliju\\appdata\\local\\programs\\python\\python312\\lib\\site-packages (from jupyter-dash) (2.31.0)\n",
      "Requirement already satisfied: flask in c:\\users\\aliju\\appdata\\local\\programs\\python\\python312\\lib\\site-packages (from jupyter-dash) (3.0.3)\n",
      "Requirement already satisfied: retrying in c:\\users\\aliju\\appdata\\local\\programs\\python\\python312\\lib\\site-packages (from jupyter-dash) (1.3.4)\n",
      "Requirement already satisfied: ipython in c:\\users\\aliju\\appdata\\local\\programs\\python\\python312\\lib\\site-packages (from jupyter-dash) (8.18.1)\n",
      "Requirement already satisfied: ipykernel in c:\\users\\aliju\\appdata\\local\\programs\\python\\python312\\lib\\site-packages (from jupyter-dash) (6.27.1)\n",
      "Requirement already satisfied: ansi2html in c:\\users\\aliju\\appdata\\local\\programs\\python\\python312\\lib\\site-packages (from jupyter-dash) (1.9.2)\n",
      "Requirement already satisfied: nest-asyncio in c:\\users\\aliju\\appdata\\local\\programs\\python\\python312\\lib\\site-packages (from jupyter-dash) (1.5.8)\n",
      "Requirement already satisfied: Werkzeug<3.1 in c:\\users\\aliju\\appdata\\local\\programs\\python\\python312\\lib\\site-packages (from dash->jupyter-dash) (3.0.6)\n",
      "Requirement already satisfied: plotly>=5.0.0 in c:\\users\\aliju\\appdata\\local\\programs\\python\\python312\\lib\\site-packages (from dash->jupyter-dash) (6.1.0)\n",
      "Requirement already satisfied: importlib-metadata in c:\\users\\aliju\\appdata\\local\\programs\\python\\python312\\lib\\site-packages (from dash->jupyter-dash) (8.7.0)\n",
      "Requirement already satisfied: typing-extensions>=4.1.1 in c:\\users\\aliju\\appdata\\local\\programs\\python\\python312\\lib\\site-packages (from dash->jupyter-dash) (4.13.1)\n",
      "Requirement already satisfied: setuptools in c:\\users\\aliju\\appdata\\local\\programs\\python\\python312\\lib\\site-packages (from dash->jupyter-dash) (69.0.2)\n",
      "Requirement already satisfied: Jinja2>=3.1.2 in c:\\users\\aliju\\appdata\\local\\programs\\python\\python312\\lib\\site-packages (from flask->jupyter-dash) (3.1.2)\n",
      "Requirement already satisfied: itsdangerous>=2.1.2 in c:\\users\\aliju\\appdata\\local\\programs\\python\\python312\\lib\\site-packages (from flask->jupyter-dash) (2.2.0)\n",
      "Requirement already satisfied: click>=8.1.3 in c:\\users\\aliju\\appdata\\local\\programs\\python\\python312\\lib\\site-packages (from flask->jupyter-dash) (8.2.0)\n",
      "Requirement already satisfied: blinker>=1.6.2 in c:\\users\\aliju\\appdata\\local\\programs\\python\\python312\\lib\\site-packages (from flask->jupyter-dash) (1.9.0)\n",
      "Requirement already satisfied: comm>=0.1.1 in c:\\users\\aliju\\appdata\\local\\programs\\python\\python312\\lib\\site-packages (from ipykernel->jupyter-dash) (0.2.0)\n",
      "Requirement already satisfied: debugpy>=1.6.5 in c:\\users\\aliju\\appdata\\local\\programs\\python\\python312\\lib\\site-packages (from ipykernel->jupyter-dash) (1.8.0)\n",
      "Requirement already satisfied: jupyter-client>=6.1.12 in c:\\users\\aliju\\appdata\\local\\programs\\python\\python312\\lib\\site-packages (from ipykernel->jupyter-dash) (8.6.0)\n",
      "Requirement already satisfied: jupyter-core!=5.0.*,>=4.12 in c:\\users\\aliju\\appdata\\local\\programs\\python\\python312\\lib\\site-packages (from ipykernel->jupyter-dash) (5.5.0)\n",
      "Requirement already satisfied: matplotlib-inline>=0.1 in c:\\users\\aliju\\appdata\\local\\programs\\python\\python312\\lib\\site-packages (from ipykernel->jupyter-dash) (0.1.6)\n",
      "Requirement already satisfied: packaging in c:\\users\\aliju\\appdata\\local\\programs\\python\\python312\\lib\\site-packages (from ipykernel->jupyter-dash) (23.2)\n",
      "Requirement already satisfied: psutil in c:\\users\\aliju\\appdata\\local\\programs\\python\\python312\\lib\\site-packages (from ipykernel->jupyter-dash) (5.9.6)\n",
      "Requirement already satisfied: pyzmq>=20 in c:\\users\\aliju\\appdata\\local\\programs\\python\\python312\\lib\\site-packages (from ipykernel->jupyter-dash) (25.1.2)\n",
      "Requirement already satisfied: tornado>=6.1 in c:\\users\\aliju\\appdata\\local\\programs\\python\\python312\\lib\\site-packages (from ipykernel->jupyter-dash) (6.4)\n",
      "Requirement already satisfied: traitlets>=5.4.0 in c:\\users\\aliju\\appdata\\local\\programs\\python\\python312\\lib\\site-packages (from ipykernel->jupyter-dash) (5.14.0)\n",
      "Requirement already satisfied: decorator in c:\\users\\aliju\\appdata\\local\\programs\\python\\python312\\lib\\site-packages (from ipython->jupyter-dash) (5.1.1)\n",
      "Requirement already satisfied: jedi>=0.16 in c:\\users\\aliju\\appdata\\local\\programs\\python\\python312\\lib\\site-packages (from ipython->jupyter-dash) (0.19.1)\n",
      "Requirement already satisfied: prompt-toolkit<3.1.0,>=3.0.41 in c:\\users\\aliju\\appdata\\local\\programs\\python\\python312\\lib\\site-packages (from ipython->jupyter-dash) (3.0.41)\n",
      "Requirement already satisfied: pygments>=2.4.0 in c:\\users\\aliju\\appdata\\local\\programs\\python\\python312\\lib\\site-packages (from ipython->jupyter-dash) (2.17.2)\n",
      "Requirement already satisfied: stack-data in c:\\users\\aliju\\appdata\\local\\programs\\python\\python312\\lib\\site-packages (from ipython->jupyter-dash) (0.6.3)\n",
      "Requirement already satisfied: colorama in c:\\users\\aliju\\appdata\\local\\programs\\python\\python312\\lib\\site-packages (from ipython->jupyter-dash) (0.4.6)\n",
      "Requirement already satisfied: charset-normalizer<4,>=2 in c:\\users\\aliju\\appdata\\local\\programs\\python\\python312\\lib\\site-packages (from requests->jupyter-dash) (3.3.2)\n",
      "Requirement already satisfied: idna<4,>=2.5 in c:\\users\\aliju\\appdata\\local\\programs\\python\\python312\\lib\\site-packages (from requests->jupyter-dash) (3.6)\n",
      "Requirement already satisfied: urllib3<3,>=1.21.1 in c:\\users\\aliju\\appdata\\local\\programs\\python\\python312\\lib\\site-packages (from requests->jupyter-dash) (2.1.0)\n",
      "Requirement already satisfied: certifi>=2017.4.17 in c:\\users\\aliju\\appdata\\local\\programs\\python\\python312\\lib\\site-packages (from requests->jupyter-dash) (2023.11.17)\n",
      "Requirement already satisfied: six>=1.7.0 in c:\\users\\aliju\\appdata\\local\\programs\\python\\python312\\lib\\site-packages (from retrying->jupyter-dash) (1.16.0)\n",
      "Requirement already satisfied: parso<0.9.0,>=0.8.3 in c:\\users\\aliju\\appdata\\local\\programs\\python\\python312\\lib\\site-packages (from jedi>=0.16->ipython->jupyter-dash) (0.8.3)\n",
      "Requirement already satisfied: MarkupSafe>=2.0 in c:\\users\\aliju\\appdata\\local\\programs\\python\\python312\\lib\\site-packages (from Jinja2>=3.1.2->flask->jupyter-dash) (2.1.3)\n",
      "Requirement already satisfied: python-dateutil>=2.8.2 in c:\\users\\aliju\\appdata\\local\\programs\\python\\python312\\lib\\site-packages (from jupyter-client>=6.1.12->ipykernel->jupyter-dash) (2.8.2)\n",
      "Requirement already satisfied: platformdirs>=2.5 in c:\\users\\aliju\\appdata\\local\\programs\\python\\python312\\lib\\site-packages (from jupyter-core!=5.0.*,>=4.12->ipykernel->jupyter-dash) (4.1.0)\n",
      "Requirement already satisfied: pywin32>=300 in c:\\users\\aliju\\appdata\\local\\programs\\python\\python312\\lib\\site-packages (from jupyter-core!=5.0.*,>=4.12->ipykernel->jupyter-dash) (306)\n",
      "Requirement already satisfied: narwhals>=1.15.1 in c:\\users\\aliju\\appdata\\local\\programs\\python\\python312\\lib\\site-packages (from plotly>=5.0.0->dash->jupyter-dash) (1.40.0)\n",
      "Requirement already satisfied: wcwidth in c:\\users\\aliju\\appdata\\local\\programs\\python\\python312\\lib\\site-packages (from prompt-toolkit<3.1.0,>=3.0.41->ipython->jupyter-dash) (0.2.12)\n",
      "Requirement already satisfied: zipp>=3.20 in c:\\users\\aliju\\appdata\\local\\programs\\python\\python312\\lib\\site-packages (from importlib-metadata->dash->jupyter-dash) (3.21.0)\n",
      "Requirement already satisfied: executing>=1.2.0 in c:\\users\\aliju\\appdata\\local\\programs\\python\\python312\\lib\\site-packages (from stack-data->ipython->jupyter-dash) (2.0.1)\n",
      "Requirement already satisfied: asttokens>=2.1.0 in c:\\users\\aliju\\appdata\\local\\programs\\python\\python312\\lib\\site-packages (from stack-data->ipython->jupyter-dash) (2.4.1)\n",
      "Requirement already satisfied: pure-eval in c:\\users\\aliju\\appdata\\local\\programs\\python\\python312\\lib\\site-packages (from stack-data->ipython->jupyter-dash) (0.2.2)\n"
     ]
    },
    {
     "name": "stderr",
     "output_type": "stream",
     "text": [
      "\n",
      "[notice] A new release of pip is available: 23.2.1 -> 25.1.1\n",
      "[notice] To update, run: python.exe -m pip install --upgrade pip\n"
     ]
    }
   ],
   "source": [
    "!pip install jupyter-dash"
   ]
  },
  {
   "cell_type": "code",
   "execution_count": 2,
   "id": "b3ff3618-e251-43bb-8cad-454dfba27525",
   "metadata": {},
   "outputs": [
    {
     "name": "stdout",
     "output_type": "stream",
     "text": [
      "Requirement already satisfied: dash_core_components in c:\\users\\aliju\\appdata\\local\\programs\\python\\python312\\lib\\site-packages (2.0.0)\n"
     ]
    },
    {
     "name": "stderr",
     "output_type": "stream",
     "text": [
      "\n",
      "[notice] A new release of pip is available: 23.2.1 -> 25.1.1\n",
      "[notice] To update, run: python.exe -m pip install --upgrade pip\n"
     ]
    }
   ],
   "source": [
    "!pip install dash_core_components"
   ]
  },
  {
   "cell_type": "code",
   "execution_count": 3,
   "id": "aac5eef6-76f4-4d16-8ae5-56392075db3b",
   "metadata": {},
   "outputs": [
    {
     "name": "stdout",
     "output_type": "stream",
     "text": [
      "Requirement already satisfied: dash_html_components in c:\\users\\aliju\\appdata\\local\\programs\\python\\python312\\lib\\site-packages (2.0.0)\n"
     ]
    },
    {
     "name": "stderr",
     "output_type": "stream",
     "text": [
      "\n",
      "[notice] A new release of pip is available: 23.2.1 -> 25.1.1\n",
      "[notice] To update, run: python.exe -m pip install --upgrade pip\n"
     ]
    }
   ],
   "source": [
    "!pip install dash_html_components"
   ]
  },
  {
   "cell_type": "code",
   "execution_count": 5,
   "id": "c4c7637c-c6da-402f-a447-4cfe57443073",
   "metadata": {},
   "outputs": [
    {
     "name": "stderr",
     "output_type": "stream",
     "text": [
      "C:\\Users\\aliju\\AppData\\Local\\Temp\\ipykernel_14052\\1384436101.py:1: DeprecationWarning: \n",
      "Pyarrow will become a required dependency of pandas in the next major release of pandas (pandas 3.0),\n",
      "(to allow more performant data types, such as the Arrow string type, and better interoperability with other libraries)\n",
      "but was not found to be installed on your system.\n",
      "If this would cause problems for you,\n",
      "please provide us feedback at https://github.com/pandas-dev/pandas/issues/54466\n",
      "        \n",
      "  import pandas as pd\n"
     ]
    },
    {
     "data": {
      "text/html": [
       "\n",
       "        <iframe\n",
       "            width=\"100%\"\n",
       "            height=\"650\"\n",
       "            src=\"http://127.0.0.1:8050/\"\n",
       "            frameborder=\"0\"\n",
       "            allowfullscreen\n",
       "            \n",
       "        ></iframe>\n",
       "        "
      ],
      "text/plain": [
       "<IPython.lib.display.IFrame at 0x1ac470a5250>"
      ]
     },
     "metadata": {},
     "output_type": "display_data"
    }
   ],
   "source": [
    "import pandas as pd\n",
    "import plotly.express as px\n",
    "from dash import Dash, dcc, html\n",
    "from dash.dependencies import Input, Output\n",
    "\n",
    "# Load your dataset\n",
    "df = pd.read_csv(\"dataset_part_3.csv\")  # replace with your path\n",
    "max_payload = df['PayloadMass_kg'].max()\n",
    "min_payload = df['PayloadMass_kg'].min()\n",
    "\n",
    "# Create Dash app\n",
    "app = Dash(__name__)\n",
    "\n",
    "app.layout = html.Div([\n",
    "    html.H1(\"SpaceX Launch Dashboard\", style={'textAlign': 'center'}),\n",
    "\n",
    "    dcc.Dropdown(\n",
    "        id='site_dropdown',\n",
    "        options=[{'label': 'All Sites', 'value': 'All Sites'}] + \n",
    "                [{'label': site, 'value': site} for site in df['Launch_Site'].unique()],\n",
    "        value='All Sites',\n",
    "        searchable=True,\n",
    "        placeholder=\"Select a Launch Site\"\n",
    "    ),\n",
    "\n",
    "    html.Br(),\n",
    "    dcc.Graph(id='success-pie-chart'),\n",
    "\n",
    "    html.P(\"Payload Mass Range (kg):\"),\n",
    "    dcc.RangeSlider(\n",
    "        id='payload_slider',\n",
    "        min=0, max=10000, step=500,\n",
    "        value=[min_payload, max_payload],\n",
    "        marks={i: f\"{i} kg\" for i in range(0, 10001, 2000)}\n",
    "    ),\n",
    "\n",
    "    html.Br(),\n",
    "    dcc.Graph(id='success-payload-scatter-chart')\n",
    "])\n",
    "\n",
    "@app.callback(\n",
    "    Output('success-pie-chart', 'figure'),\n",
    "    Input('site_dropdown', 'value')\n",
    ")\n",
    "def update_pie_chart(site):\n",
    "    if site == 'All Sites':\n",
    "        fig = px.pie(df[df['Success'] == 1], names='Launch_Site',\n",
    "                     title='Total Successful Launches by Site', hole=0.3)\n",
    "    else:\n",
    "        site_df = df[df['Launch_Site'] == site]\n",
    "        fig = px.pie(site_df, names='Success',\n",
    "                     title=f'Success vs Failure for {site}', hole=0.3)\n",
    "    return fig\n",
    "\n",
    "@app.callback(\n",
    "    Output('success-payload-scatter-chart', 'figure'),\n",
    "    [Input('site_dropdown', 'value'),\n",
    "     Input('payload_slider', 'value')]\n",
    ")\n",
    "def update_scatter(site, payload_range):\n",
    "    low, high = payload_range\n",
    "    filtered_df = df[(df['PayloadMass_kg'] >= low) & (df['PayloadMass_kg'] <= high)]\n",
    "\n",
    "    if site != 'All Sites':\n",
    "        filtered_df = filtered_df[filtered_df['Launch_Site'] == site]\n",
    "\n",
    "    fig = px.scatter(\n",
    "        filtered_df, x='PayloadMass_kg', y='Success',\n",
    "        color='BoosterVersion', size='PayloadMass_kg',\n",
    "        hover_data=['Orbit', 'Outcome'],\n",
    "        title='Payload vs. Success by Booster Version'\n",
    "    )\n",
    "    return fig\n",
    "\n",
    "# ✅ Standard run method (works both in script and notebook)\n",
    "if __name__ == '__main__':\n",
    "    app.run(debug=True)\n"
   ]
  },
  {
   "cell_type": "code",
   "execution_count": null,
   "id": "d5b1548d-b402-45ba-8b06-5209f7e7cd22",
   "metadata": {},
   "outputs": [],
   "source": []
  }
 ],
 "metadata": {
  "kernelspec": {
   "display_name": "Python 3 (ipykernel)",
   "language": "python",
   "name": "python3"
  },
  "language_info": {
   "codemirror_mode": {
    "name": "ipython",
    "version": 3
   },
   "file_extension": ".py",
   "mimetype": "text/x-python",
   "name": "python",
   "nbconvert_exporter": "python",
   "pygments_lexer": "ipython3",
   "version": "3.12.1"
  }
 },
 "nbformat": 4,
 "nbformat_minor": 5
}
